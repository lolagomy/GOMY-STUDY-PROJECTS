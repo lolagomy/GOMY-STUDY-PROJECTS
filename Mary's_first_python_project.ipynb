{
  "nbformat": 4,
  "nbformat_minor": 0,
  "metadata": {
    "colab": {
      "provenance": [],
      "authorship_tag": "ABX9TyNnZNKRJrGF9/nwN/mkyU+M",
      "include_colab_link": true
    },
    "kernelspec": {
      "name": "python3",
      "display_name": "Python 3"
    },
    "language_info": {
      "name": "python"
    }
  },
  "cells": [
    {
      "cell_type": "markdown",
      "metadata": {
        "id": "view-in-github",
        "colab_type": "text"
      },
      "source": [
        "<a href=\"https://colab.research.google.com/github/lolagomy/GOMY-STUDY-PROJECTS/blob/main/Mary's_first_python_project.ipynb\" target=\"_parent\"><img src=\"https://colab.research.google.com/assets/colab-badge.svg\" alt=\"Open In Colab\"/></a>"
      ]
    },
    {
      "cell_type": "code",
      "execution_count": null,
      "metadata": {
        "colab": {
          "base_uri": "https://localhost:8080/"
        },
        "id": "whSTq4NjnE4I",
        "outputId": "c504f6f9-6105-4794-9acb-04ed6e0f1792"
      },
      "outputs": [
        {
          "output_type": "stream",
          "name": "stdout",
          "text": [
            "My name is lola and I am a student of data science\n"
          ]
        }
      ],
      "source": [
        "print('My name is lola and I am a student of data science')"
      ]
    },
    {
      "cell_type": "code",
      "source": [
        "Name = 'Lola'\n",
        "Age = 20\n",
        "\n",
        "\n",
        "print(Name)\n",
        "print(Age)"
      ],
      "metadata": {
        "colab": {
          "base_uri": "https://localhost:8080/"
        },
        "id": "75tqsSzLpRAh",
        "outputId": "3530920d-709f-4fc9-da43-3553776331e2"
      },
      "execution_count": null,
      "outputs": [
        {
          "output_type": "stream",
          "name": "stdout",
          "text": [
            "Lola\n",
            "20\n"
          ]
        }
      ]
    },
    {
      "cell_type": "code",
      "source": [
        "Name = 'Lola'\n",
        "Age = 26\n",
        "Course ='Data Science'\n",
        "\n",
        "print(f'my name is {Name} and I am {Age} years old and I am studying {Course}')"
      ],
      "metadata": {
        "colab": {
          "base_uri": "https://localhost:8080/"
        },
        "id": "Q6gD4YUerw_m",
        "outputId": "93ab1416-3458-4f28-a957-fd72302f584e"
      },
      "execution_count": null,
      "outputs": [
        {
          "output_type": "stream",
          "name": "stdout",
          "text": [
            "my name is Lola and I am 26 years old and I am studying Data Science\n"
          ]
        }
      ]
    },
    {
      "cell_type": "code",
      "source": [
        "Name = input('please enter your name:')\n",
        "Age = int(input('please enter your age:'))\n",
        "print(f'my name is {Name} and I am {Age} years old ')"
      ],
      "metadata": {
        "colab": {
          "base_uri": "https://localhost:8080/"
        },
        "id": "GjHDKDLGtJgw",
        "outputId": "2a1d8f81-3c97-4c78-f409-d2c4c75a9395"
      },
      "execution_count": null,
      "outputs": [
        {
          "output_type": "stream",
          "name": "stdout",
          "text": [
            "please enter your name:lola\n",
            "please enter your age:26\n",
            "my name is lola and I am 26 years old \n"
          ]
        }
      ]
    },
    {
      "cell_type": "code",
      "source": [
        "print('Welcome to my page, please fill out the necessary information. Thank you.')\n",
        "Name = input('please enter your name:')\n",
        "Course =input('please enter your course of study:')\n",
        "School = input('please enter institution:')\n",
        "School_fees = float(input('please enter amount for school fees:'))\n",
        "\n",
        "print(f'My name is {Name} and I study {Course} at {School} and I pay {School_fees} per session')"
      ],
      "metadata": {
        "colab": {
          "base_uri": "https://localhost:8080/"
        },
        "id": "9AjXkyZLvWfh",
        "outputId": "a763a04c-c636-4c33-eb38-cc0d7b751cbd"
      },
      "execution_count": null,
      "outputs": [
        {
          "output_type": "stream",
          "name": "stdout",
          "text": [
            "Welcome to my page, please fill out the necessary information. Thank you.\n",
            "please enter your name:Lola Mary\n",
            "please enter your course of study:Civil Engineering\n",
            "please enter institution:Kwara State University\n",
            "please enter amount for school fees:198500.00\n",
            "My name is Lola Mary and I study Civil Engineering at Kwara State University and I pay 198500.0 per session\n"
          ]
        }
      ]
    },
    {
      "cell_type": "markdown",
      "source": [
        "##Arithmetic Opetrators\n",
        "\n",
        "* addition +\n",
        "* subtraction -\n",
        "* multiplication *\n",
        "* division /\n",
        "* modulus %\n",
        "* exponentiation **\n",
        "* floor division //\n",
        "\n",
        "\n",
        "\n",
        "\n",
        "\n",
        "\n",
        "\n",
        "\n"
      ],
      "metadata": {
        "id": "8DmdH5DU0_YY"
      }
    },
    {
      "cell_type": "code",
      "source": [
        "x = 5\n",
        "y = 3"
      ],
      "metadata": {
        "id": "-m4wkWAe2UKf"
      },
      "execution_count": null,
      "outputs": []
    },
    {
      "cell_type": "code",
      "source": [
        "#addition\n",
        "print(x+y)"
      ],
      "metadata": {
        "colab": {
          "base_uri": "https://localhost:8080/"
        },
        "id": "cQVLzJl63NfW",
        "outputId": "de7e9f92-1f55-4fb2-ec8c-61b81088499a"
      },
      "execution_count": null,
      "outputs": [
        {
          "output_type": "stream",
          "name": "stdout",
          "text": [
            "8\n"
          ]
        }
      ]
    },
    {
      "cell_type": "code",
      "source": [
        "#subtraction\n",
        "result = x - y\n",
        "print(result)"
      ],
      "metadata": {
        "colab": {
          "base_uri": "https://localhost:8080/"
        },
        "id": "cgYBYLYg3pkn",
        "outputId": "56e5afbf-d373-4401-e82e-30306b482fa0"
      },
      "execution_count": null,
      "outputs": [
        {
          "output_type": "stream",
          "name": "stdout",
          "text": [
            "2\n"
          ]
        }
      ]
    },
    {
      "cell_type": "code",
      "source": [
        "#multiplication\n",
        "result = x*y\n",
        "print(result)"
      ],
      "metadata": {
        "colab": {
          "base_uri": "https://localhost:8080/"
        },
        "id": "MaRk1zjI3_Qh",
        "outputId": "d219667d-7920-432d-e749-67a2dd3ea867"
      },
      "execution_count": null,
      "outputs": [
        {
          "output_type": "stream",
          "name": "stdout",
          "text": [
            "15\n"
          ]
        }
      ]
    },
    {
      "cell_type": "code",
      "source": [
        "#division\n",
        "result = x/y\n",
        "print(result)"
      ],
      "metadata": {
        "colab": {
          "base_uri": "https://localhost:8080/"
        },
        "id": "3f3QE_at4J1a",
        "outputId": "10b175a2-996f-4ee8-92da-3033950ea35c"
      },
      "execution_count": null,
      "outputs": [
        {
          "output_type": "stream",
          "name": "stdout",
          "text": [
            "1.6666666666666667\n"
          ]
        }
      ]
    },
    {
      "cell_type": "code",
      "source": [
        "#exponentiation\n",
        "result = x ** y\n",
        "print(result)"
      ],
      "metadata": {
        "colab": {
          "base_uri": "https://localhost:8080/"
        },
        "id": "MrIhVn3l4Sp4",
        "outputId": "4f2b80ef-6199-42d7-abd5-024168016ec6"
      },
      "execution_count": null,
      "outputs": [
        {
          "output_type": "stream",
          "name": "stdout",
          "text": [
            "125\n"
          ]
        }
      ]
    },
    {
      "cell_type": "code",
      "source": [
        "#solving problems with the inputed arithmetic operators\n",
        "First_value = int(input('enter a number:'))\n",
        "Second_value = int(input('enter a number:'))\n",
        "#addition\n",
        "Result = First_value + Second_value\n",
        "print(Result)"
      ],
      "metadata": {
        "colab": {
          "base_uri": "https://localhost:8080/"
        },
        "id": "3uQUivyM4yiL",
        "outputId": "970cdf46-103a-4e6d-a7fd-209d727050d8"
      },
      "execution_count": null,
      "outputs": [
        {
          "output_type": "stream",
          "name": "stdout",
          "text": [
            "enter a number:11\n",
            "enter a number:5\n",
            "16\n"
          ]
        }
      ]
    },
    {
      "cell_type": "code",
      "source": [
        "First_value = int(input('enter a number:'))\n",
        "Second_value = int(input('enter a number:'))\n",
        "#subtraction\n",
        "Result = First_value - Second_value\n",
        "print(Result)"
      ],
      "metadata": {
        "colab": {
          "base_uri": "https://localhost:8080/"
        },
        "id": "eE84osJR51NZ",
        "outputId": "a6604387-7f2f-4e3b-aadf-042f0df87995"
      },
      "execution_count": null,
      "outputs": [
        {
          "output_type": "stream",
          "name": "stdout",
          "text": [
            "enter a number:11\n",
            "enter a number:5\n",
            "6\n"
          ]
        }
      ]
    },
    {
      "cell_type": "code",
      "source": [
        "First_value = int(input('enter a number:'))\n",
        "Second_value = int(input('enter a number:'))\n",
        "#multiplication\n",
        "Result = First_value * Second_value\n",
        "print(Result)"
      ],
      "metadata": {
        "colab": {
          "base_uri": "https://localhost:8080/"
        },
        "id": "iKYwRCH76NuF",
        "outputId": "0515769a-de63-4cf5-c42c-a1e1ce7612ca"
      },
      "execution_count": null,
      "outputs": [
        {
          "output_type": "stream",
          "name": "stdout",
          "text": [
            "enter a number:11\n",
            "enter a number:5\n",
            "55\n"
          ]
        }
      ]
    },
    {
      "cell_type": "code",
      "source": [
        "First_value = int(input('enter a number:'))\n",
        "Second_value = int(input('enter a number:'))\n",
        "#division\n",
        "Result = First_value / Second_value\n",
        "print(Result)"
      ],
      "metadata": {
        "colab": {
          "base_uri": "https://localhost:8080/"
        },
        "id": "PdZACxGA6khQ",
        "outputId": "00567fda-2d2b-467f-ed81-c249ceac0976"
      },
      "execution_count": null,
      "outputs": [
        {
          "output_type": "stream",
          "name": "stdout",
          "text": [
            "enter a number:36\n",
            "enter a number:6\n",
            "6.0\n"
          ]
        }
      ]
    },
    {
      "cell_type": "code",
      "source": [
        "round(20 / 6, 5)"
      ],
      "metadata": {
        "colab": {
          "base_uri": "https://localhost:8080/"
        },
        "id": "X-5rE91fysrO",
        "outputId": "979d194a-0650-42bc-8849-74bc88cc84a8"
      },
      "execution_count": null,
      "outputs": [
        {
          "output_type": "execute_result",
          "data": {
            "text/plain": [
              "3.33333"
            ]
          },
          "metadata": {},
          "execution_count": 9
        }
      ]
    },
    {
      "cell_type": "code",
      "source": [
        "First_value = int(input('enter a number:'))\n",
        "Second_value = int(input('enter a number:'))\n",
        "#modulus\n",
        "Result = First_value % Second_value\n",
        "print(Result)"
      ],
      "metadata": {
        "colab": {
          "base_uri": "https://localhost:8080/"
        },
        "id": "zP4YVoGJ6tYC",
        "outputId": "175c8f1f-20c8-4a42-a037-e20325938df4"
      },
      "execution_count": null,
      "outputs": [
        {
          "output_type": "stream",
          "name": "stdout",
          "text": [
            "enter a number:67\n",
            "enter a number:5\n",
            "2\n"
          ]
        }
      ]
    },
    {
      "cell_type": "code",
      "source": [
        "First_value = int(input('enter a number:'))\n",
        "Second_value = int(input('enter a number:'))\n",
        "#exponentiation\n",
        "Result = First_value ** Second_value\n",
        "print(Result)"
      ],
      "metadata": {
        "colab": {
          "base_uri": "https://localhost:8080/"
        },
        "id": "o80gFoW-66RT",
        "outputId": "11f54b63-ed01-45d4-d0fe-5a5fc48c046b"
      },
      "execution_count": null,
      "outputs": [
        {
          "output_type": "stream",
          "name": "stdout",
          "text": [
            "enter a number:5\n",
            "enter a number:8\n",
            "390625\n"
          ]
        }
      ]
    },
    {
      "cell_type": "code",
      "source": [
        "First_value = int(input('enter a number:'))\n",
        "Second_value = int(input('enter a number:'))\n",
        "#floor_division\n",
        "Result = First_value // Second_value\n",
        "print(Result)"
      ],
      "metadata": {
        "colab": {
          "base_uri": "https://localhost:8080/"
        },
        "id": "PIlSHKg97Gz1",
        "outputId": "960fb8b1-c350-4972-ecbf-f733eaf33237"
      },
      "execution_count": null,
      "outputs": [
        {
          "output_type": "stream",
          "name": "stdout",
          "text": [
            "enter a number:40\n",
            "enter a number:3\n",
            "13\n"
          ]
        }
      ]
    },
    {
      "cell_type": "code",
      "source": [
        "#Creating a fill out form for players from Seamoriow football club\n",
        "print('Welcome to SeamoriowFC,please fill out the necessary information. Thank you.')\n",
        "Footballer_Name = input('please enter your first and last name:')\n",
        "Current_year = int(input('please input current year:'))\n",
        "Birth_year = int(input('please enter your year of birth:'))\n",
        "Age = Current_year - Birth_year\n",
        "\n",
        "print(f'My name is {Footballer_Name},I play for SeamoriowFC and I am {Age} years old')"
      ],
      "metadata": {
        "colab": {
          "base_uri": "https://localhost:8080/"
        },
        "id": "h9otReNM7_E7",
        "outputId": "516761e9-fae3-43c0-cc5b-c7dce44bc623"
      },
      "execution_count": null,
      "outputs": [
        {
          "output_type": "stream",
          "name": "stdout",
          "text": [
            "Welcome to SeamoriowFC,please fill out the necessary information. Thank you.\n",
            "please enter your first and last name:Israel Akindele\n",
            "please input current year:2024\n",
            "please enter your year of birth:2002\n",
            "My name is Israel Akindele,I play for SeamoriowFC and I am 22 years old\n"
          ]
        }
      ]
    },
    {
      "cell_type": "markdown",
      "source": [
        "###COMPARISM OPERATORS"
      ],
      "metadata": {
        "id": "owSBjD0J1mth"
      }
    },
    {
      "cell_type": "code",
      "source": [
        "a = 5\n",
        "b = 7\n",
        "#Equals to\n",
        "a == b"
      ],
      "metadata": {
        "colab": {
          "base_uri": "https://localhost:8080/"
        },
        "id": "RPMJKtzlwNfp",
        "outputId": "81fee76c-bcbf-4761-c572-2f642bee5b80"
      },
      "execution_count": null,
      "outputs": [
        {
          "output_type": "execute_result",
          "data": {
            "text/plain": [
              "False"
            ]
          },
          "metadata": {},
          "execution_count": 3
        }
      ]
    },
    {
      "cell_type": "code",
      "source": [
        "a != b"
      ],
      "metadata": {
        "colab": {
          "base_uri": "https://localhost:8080/"
        },
        "id": "eQ2b0Yq9xOXX",
        "outputId": "e06d472e-7d6c-46ed-e34d-29ef1aec7c95"
      },
      "execution_count": null,
      "outputs": [
        {
          "output_type": "execute_result",
          "data": {
            "text/plain": [
              "True"
            ]
          },
          "metadata": {},
          "execution_count": 4
        }
      ]
    },
    {
      "cell_type": "code",
      "source": [
        "a > b"
      ],
      "metadata": {
        "colab": {
          "base_uri": "https://localhost:8080/"
        },
        "id": "NYLWfps9xWhp",
        "outputId": "269bde9d-6571-4040-e1c1-8aeab1341ea4"
      },
      "execution_count": null,
      "outputs": [
        {
          "output_type": "execute_result",
          "data": {
            "text/plain": [
              "False"
            ]
          },
          "metadata": {},
          "execution_count": 5
        }
      ]
    },
    {
      "cell_type": "code",
      "source": [
        "a < b"
      ],
      "metadata": {
        "colab": {
          "base_uri": "https://localhost:8080/"
        },
        "id": "vP_r6rVCxce-",
        "outputId": "e8804acf-9a36-4fea-ebb7-cf68b3d71069"
      },
      "execution_count": null,
      "outputs": [
        {
          "output_type": "execute_result",
          "data": {
            "text/plain": [
              "True"
            ]
          },
          "metadata": {},
          "execution_count": 6
        }
      ]
    },
    {
      "cell_type": "markdown",
      "source": [
        "###LOGICAL OPERATORS"
      ],
      "metadata": {
        "id": "UW9Q7Z6I1Gzy"
      }
    },
    {
      "cell_type": "code",
      "source": [
        "x = 3\n",
        "x < 5 and x < 10"
      ],
      "metadata": {
        "colab": {
          "base_uri": "https://localhost:8080/"
        },
        "id": "vDnH1ggd1MDj",
        "outputId": "a34eebdf-7c8a-4ade-f53e-88ecab8ed4b7"
      },
      "execution_count": null,
      "outputs": [
        {
          "output_type": "execute_result",
          "data": {
            "text/plain": [
              "True"
            ]
          },
          "metadata": {},
          "execution_count": 17
        }
      ]
    },
    {
      "cell_type": "code",
      "source": [
        "x < 5 | x > 4"
      ],
      "metadata": {
        "colab": {
          "base_uri": "https://localhost:8080/"
        },
        "id": "_hZQXwLc1YLl",
        "outputId": "1b57b0a5-b040-4321-f5dc-8c4832649d58"
      },
      "execution_count": null,
      "outputs": [
        {
          "output_type": "execute_result",
          "data": {
            "text/plain": [
              "True"
            ]
          },
          "metadata": {},
          "execution_count": 16
        }
      ]
    },
    {
      "cell_type": "code",
      "source": [
        "not(x < 5 and x < 10)"
      ],
      "metadata": {
        "colab": {
          "base_uri": "https://localhost:8080/"
        },
        "id": "KK4Tnspk1tuh",
        "outputId": "37556374-bdfb-4089-c50a-c07a0f6810e4"
      },
      "execution_count": null,
      "outputs": [
        {
          "output_type": "execute_result",
          "data": {
            "text/plain": [
              "False"
            ]
          },
          "metadata": {},
          "execution_count": 13
        }
      ]
    },
    {
      "cell_type": "code",
      "source": [
        "x = 2\n",
        "y = 2.1\n",
        "z = 'eat'"
      ],
      "metadata": {
        "id": "8jn4DpMG2sEM"
      },
      "execution_count": null,
      "outputs": []
    },
    {
      "cell_type": "code",
      "source": [
        "print(type(x))\n",
        "print(type(y))\n",
        "print(type(z))"
      ],
      "metadata": {
        "colab": {
          "base_uri": "https://localhost:8080/"
        },
        "id": "XK6rxoAE2yO8",
        "outputId": "5287df1a-53f9-4557-999e-c60e2a4ce6fd"
      },
      "execution_count": null,
      "outputs": [
        {
          "output_type": "stream",
          "name": "stdout",
          "text": [
            "<class 'int'>\n",
            "<class 'float'>\n",
            "<class 'str'>\n"
          ]
        }
      ]
    },
    {
      "cell_type": "code",
      "source": [
        "a = float(x)\n",
        "print(type(a))"
      ],
      "metadata": {
        "colab": {
          "base_uri": "https://localhost:8080/"
        },
        "id": "2fBS4_yw4InM",
        "outputId": "eff7dff1-11cb-403a-e88a-e904201c3640"
      },
      "execution_count": null,
      "outputs": [
        {
          "output_type": "stream",
          "name": "stdout",
          "text": [
            "<class 'float'>\n"
          ]
        }
      ]
    },
    {
      "cell_type": "code",
      "source": [
        "b = int(y)\n",
        "print(type(b))"
      ],
      "metadata": {
        "colab": {
          "base_uri": "https://localhost:8080/"
        },
        "id": "QUNIa5zd4fPt",
        "outputId": "d1b28c43-c869-45e5-839f-5a3d739620c1"
      },
      "execution_count": null,
      "outputs": [
        {
          "output_type": "stream",
          "name": "stdout",
          "text": [
            "<class 'int'>\n"
          ]
        }
      ]
    },
    {
      "cell_type": "markdown",
      "source": [
        "###STRING MANIPULATION"
      ],
      "metadata": {
        "id": "-M5MUK955k4g"
      }
    },
    {
      "cell_type": "code",
      "source": [
        "print('Hello' + ' ' + 'world')"
      ],
      "metadata": {
        "colab": {
          "base_uri": "https://localhost:8080/"
        },
        "id": "tsZnKHWm5pdx",
        "outputId": "2671532a-4c86-4fee-8fba-409660ea33ff"
      },
      "execution_count": null,
      "outputs": [
        {
          "output_type": "stream",
          "name": "stdout",
          "text": [
            "Hello world\n"
          ]
        }
      ]
    },
    {
      "cell_type": "code",
      "source": [
        " First_Name = input('please input first name:')\n",
        " Middle_Name = input('please input middle name:')\n",
        " Last_Name = input('please input last name:')\n",
        "\n",
        " Full_Name = First_Name +' ' + Middle_Name +' ' + Last_Name\n",
        " print(f'Hello,my name is {Full_Name}')"
      ],
      "metadata": {
        "colab": {
          "base_uri": "https://localhost:8080/"
        },
        "id": "p5vlgJe66iI4",
        "outputId": "56a879cf-05fa-4b85-ddfd-edb8c7164840"
      },
      "execution_count": null,
      "outputs": [
        {
          "output_type": "stream",
          "name": "stdout",
          "text": [
            "please input first name:Adekugbe\n",
            "please input middle name:Oluwatosin\n",
            "please input last name:Mary\n",
            "Hello,my name is Adekugbe Oluwatosin Mary\n"
          ]
        }
      ]
    },
    {
      "cell_type": "markdown",
      "source": [
        "###STRING SLICING AND INDEXING"
      ],
      "metadata": {
        "id": "6TSTzHoDBnaV"
      }
    },
    {
      "cell_type": "code",
      "source": [
        "sentence = 'I am a girl and I love the color black'\n",
        "sentence[5]"
      ],
      "metadata": {
        "id": "UoyvVxK3Btla",
        "colab": {
          "base_uri": "https://localhost:8080/",
          "height": 35
        },
        "outputId": "98cc2309-50b4-48b0-cce0-3e073f51099d"
      },
      "execution_count": null,
      "outputs": [
        {
          "output_type": "execute_result",
          "data": {
            "text/plain": [
              "'a'"
            ],
            "application/vnd.google.colaboratory.intrinsic+json": {
              "type": "string"
            }
          },
          "metadata": {},
          "execution_count": 29
        }
      ]
    },
    {
      "cell_type": "code",
      "source": [
        "# get the letters that are in position 10, 15, 11,7 and 9\n",
        "sentence[10]"
      ],
      "metadata": {
        "id": "lY-v9QkbDssK",
        "colab": {
          "base_uri": "https://localhost:8080/",
          "height": 35
        },
        "outputId": "589445cd-3128-4c38-94f7-9fbd57c61013"
      },
      "execution_count": null,
      "outputs": [
        {
          "output_type": "execute_result",
          "data": {
            "text/plain": [
              "'l'"
            ],
            "application/vnd.google.colaboratory.intrinsic+json": {
              "type": "string"
            }
          },
          "metadata": {},
          "execution_count": 36
        }
      ]
    },
    {
      "cell_type": "code",
      "source": [
        "sentence[15]"
      ],
      "metadata": {
        "colab": {
          "base_uri": "https://localhost:8080/",
          "height": 35
        },
        "id": "mLKXB-5rEYBY",
        "outputId": "dddca5df-d5f4-4456-ace8-f6dbf34b3551"
      },
      "execution_count": null,
      "outputs": [
        {
          "output_type": "execute_result",
          "data": {
            "text/plain": [
              "' '"
            ],
            "application/vnd.google.colaboratory.intrinsic+json": {
              "type": "string"
            }
          },
          "metadata": {},
          "execution_count": 37
        }
      ]
    },
    {
      "cell_type": "code",
      "source": [
        "sentence[11]"
      ],
      "metadata": {
        "colab": {
          "base_uri": "https://localhost:8080/",
          "height": 35
        },
        "id": "CyEtLzJVFFHn",
        "outputId": "31436eae-b3e9-49cc-95bd-6515e7a426ab"
      },
      "execution_count": null,
      "outputs": [
        {
          "output_type": "execute_result",
          "data": {
            "text/plain": [
              "' '"
            ],
            "application/vnd.google.colaboratory.intrinsic+json": {
              "type": "string"
            }
          },
          "metadata": {},
          "execution_count": 38
        }
      ]
    },
    {
      "cell_type": "code",
      "source": [
        "sentence[7]"
      ],
      "metadata": {
        "colab": {
          "base_uri": "https://localhost:8080/",
          "height": 35
        },
        "id": "J1TP2-Q5FJfL",
        "outputId": "d5344800-c38c-47f6-c299-a4de6de7fc0e"
      },
      "execution_count": null,
      "outputs": [
        {
          "output_type": "execute_result",
          "data": {
            "text/plain": [
              "'g'"
            ],
            "application/vnd.google.colaboratory.intrinsic+json": {
              "type": "string"
            }
          },
          "metadata": {},
          "execution_count": 39
        }
      ]
    },
    {
      "cell_type": "code",
      "source": [
        "sentence[9]"
      ],
      "metadata": {
        "id": "VUasAWA3FMfT",
        "outputId": "2a30861f-58d7-4671-d5aa-076845884e56",
        "colab": {
          "base_uri": "https://localhost:8080/",
          "height": 35
        }
      },
      "execution_count": null,
      "outputs": [
        {
          "output_type": "execute_result",
          "data": {
            "text/plain": [
              "'r'"
            ],
            "application/vnd.google.colaboratory.intrinsic+json": {
              "type": "string"
            }
          },
          "metadata": {},
          "execution_count": 40
        }
      ]
    }
  ]
}